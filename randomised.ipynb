{
 "cells": [
  {
   "cell_type": "code",
   "execution_count": 1,
   "id": "dea05496-7631-46d0-938b-a31e1f023599",
   "metadata": {},
   "outputs": [
    {
     "name": "stdout",
     "output_type": "stream",
     "text": [
      "Random Forest R² Score: 0.47027066465218703\n",
      "Random Forest MSE: 2859.641982706767\n",
      "AdaBoost R² Score: 0.4658108945739403\n",
      "AdaBoost MSE: 2883.7171941363927\n"
     ]
    }
   ],
   "source": [
    "from sklearn.datasets import load_diabetes\n",
    "from sklearn.model_selection import train_test_split\n",
    "from sklearn.ensemble import RandomForestRegressor, AdaBoostRegressor\n",
    "from sklearn.metrics import mean_squared_error, r2_score\n",
    "\n",
    "# 1. Load dataset (changed to Diabetes dataset)\n",
    "diabetes = load_diabetes()\n",
    "X = diabetes.data\n",
    "y = diabetes.target\n",
    "\n",
    "# 2. Split into training and testing sets\n",
    "X_train, X_test, y_train, y_test = train_test_split(X, y, test_size=0.3, random_state=42)\n",
    "\n",
    "# 3. Train Random Forest Regressor\n",
    "rf_model = RandomForestRegressor(n_estimators=100, random_state=42)\n",
    "rf_model.fit(X_train, y_train)\n",
    "rf_preds = rf_model.predict(X_test)\n",
    "\n",
    "# 4. Train AdaBoost Regressor\n",
    "ab_model = AdaBoostRegressor(n_estimators=100, random_state=42)\n",
    "ab_model.fit(X_train, y_train)\n",
    "ab_preds = ab_model.predict(X_test)\n",
    "\n",
    "# 5. Evaluate models\n",
    "print(\"Random Forest R² Score:\", r2_score(y_test, rf_preds))\n",
    "print(\"Random Forest MSE:\", mean_squared_error(y_test, rf_preds))\n",
    "print(\"AdaBoost R² Score:\", r2_score(y_test, ab_preds))\n",
    "print(\"AdaBoost MSE:\", mean_squared_error(y_test, ab_preds))"
   ]
  },
  {
   "cell_type": "code",
   "execution_count": 2,
   "id": "7be76b29-6e77-49bd-a69b-56ad0d7f51c1",
   "metadata": {},
   "outputs": [
    {
     "name": "stdout",
     "output_type": "stream",
     "text": [
      "Random Forest R² Score: 0.47027066465218703\n",
      "Random Forest MSE: 2859.641982706767\n",
      "Random Forest MAE: 42.75075187969925\n",
      "Random Forest Median AE: 35.81\n",
      "Random Forest Explained Variance: 0.4703376031579882\n",
      "Random Forest CV R² Scores: [0.38297026 0.51674721 0.42936115 0.35090466 0.41209037]\n",
      "Random Forest Mean CV R² Score: 0.41841473022497616\n",
      "AdaBoost R² Score: 0.4658108945739403\n",
      "AdaBoost MSE: 2883.7171941363927\n",
      "AdaBoost MAE: 43.041557425721415\n",
      "AdaBoost Median AE: 37.28985507246378\n",
      "AdaBoost Explained Variance: 0.47353024658329934\n",
      "AdaBoost CV R² Scores: [0.36331081 0.4673352  0.41228926 0.35715597 0.42431587]\n",
      "AdaBoost Mean CV R² Score: 0.40488142072930283\n"
     ]
    }
   ],
   "source": [
    "from sklearn.metrics import mean_absolute_error, median_absolute_error, explained_variance_score\n",
    "from sklearn.model_selection import cross_val_score\n",
    "\n",
    "# Existing predictions\n",
    "print(\"Random Forest R² Score:\", r2_score(y_test, rf_preds))\n",
    "print(\"Random Forest MSE:\", mean_squared_error(y_test, rf_preds))\n",
    "\n",
    "# Additional metrics for Random Forest\n",
    "print(\"Random Forest MAE:\", mean_absolute_error(y_test, rf_preds))\n",
    "print(\"Random Forest Median AE:\", median_absolute_error(y_test, rf_preds))\n",
    "print(\"Random Forest Explained Variance:\", explained_variance_score(y_test, rf_preds))\n",
    "\n",
    "# Cross-validated R² score for Random Forest on the whole dataset (5-fold CV)\n",
    "cv_scores = cross_val_score(rf_model, X, y, cv=5, scoring='r2')\n",
    "print(\"Random Forest CV R² Scores:\", cv_scores)\n",
    "print(\"Random Forest Mean CV R² Score:\", cv_scores.mean())\n",
    "\n",
    "# Same for AdaBoost\n",
    "print(\"AdaBoost R² Score:\", r2_score(y_test, ab_preds))\n",
    "print(\"AdaBoost MSE:\", mean_squared_error(y_test, ab_preds))\n",
    "print(\"AdaBoost MAE:\", mean_absolute_error(y_test, ab_preds))\n",
    "print(\"AdaBoost Median AE:\", median_absolute_error(y_test, ab_preds))\n",
    "print(\"AdaBoost Explained Variance:\", explained_variance_score(y_test, ab_preds))\n",
    "\n",
    "cv_scores_ab = cross_val_score(ab_model, X, y, cv=5, scoring='r2')\n",
    "print(\"AdaBoost CV R² Scores:\", cv_scores_ab)\n",
    "print(\"AdaBoost Mean CV R² Score:\", cv_scores_ab.mean())\n"
   ]
  },
  {
   "cell_type": "code",
   "execution_count": null,
   "id": "5eff5037-e536-4084-a736-62219d7826cb",
   "metadata": {},
   "outputs": [],
   "source": []
  }
 ],
 "metadata": {
  "kernelspec": {
   "display_name": "Python (6015)",
   "language": "python",
   "name": "6015"
  },
  "language_info": {
   "codemirror_mode": {
    "name": "ipython",
    "version": 3
   },
   "file_extension": ".py",
   "mimetype": "text/x-python",
   "name": "python",
   "nbconvert_exporter": "python",
   "pygments_lexer": "ipython3",
   "version": "3.12.3"
  }
 },
 "nbformat": 4,
 "nbformat_minor": 5
}
