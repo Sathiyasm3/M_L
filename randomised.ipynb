from sklearn.datasets import load_diabetes
from sklearn.model_selection import train_test_split
from sklearn.ensemble import RandomForestRegressor, AdaBoostRegressor
from sklearn.metrics import mean_squared_error, r2_score

# 1. Load dataset (changed to Diabetes dataset)
diabetes = load_diabetes()
X = diabetes.data
y = diabetes.target

# 2. Split into training and testing sets
X_train, X_test, y_train, y_test = train_test_split(X, y, test_size=0.3, random_state=42)

# 3. Train Random Forest Regressor
rf_model = RandomForestRegressor(n_estimators=100, random_state=42)
rf_model.fit(X_train, y_train)
rf_preds = rf_model.predict(X_test)

# 4. Train AdaBoost Regressor
ab_model = AdaBoostRegressor(n_estimators=100, random_state=42)
ab_model.fit(X_train, y_train)
ab_preds = ab_model.predict(X_test)

# 5. Evaluate models
print("Random Forest R² Score:", r2_score(y_test, rf_preds))
print("Random Forest MSE:", mean_squared_error(y_test, rf_preds))
print("AdaBoost R² Score:", r2_score(y_test, ab_preds))
print("AdaBoost MSE:", mean_squared_error(y_test, ab_preds))