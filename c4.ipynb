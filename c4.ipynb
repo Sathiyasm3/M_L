import pandas as pd
import numpy as np
from math import log2

file_path = "Color Balls_Train.csv"
df = pd.read_csv(file_path)

def entropy(target_col):
    elements, counts = np.unique(target_col, return_counts=True)
    entropy_val = 0
    for i in range(len(elements)):
        prob = counts[i] / np.sum(counts)
        entropy_val += -prob * log2(prob)
    return entropy_val

def info_gain(data, split_attr, target_attr):
    total_entropy = entropy(data[target_attr])
    vals, counts = np.unique(data[split_attr], return_counts=True)
    weighted_entropy = 0
    for i in range(len(vals)):
        subset = data[data[split_attr] == vals[i]]
        weighted_entropy += (counts[i] / np.sum(counts)) * entropy(subset[target_attr])
    IG = total_entropy - weighted_entropy

    split_info = 0
    for i in range(len(vals)):
        prob = counts[i] / np.sum(counts)
        split_info += -prob * log2(prob)

    if split_info == 0:
        return IG, 0
    return IG, IG / split_info

def c45(data, features, target_attr):
    if len(np.unique(data[target_attr])) == 1:
        return np.unique(data[target_attr])[0]
    if len(features) == 0:
        return data[target_attr].mode()[0]

    gains_ratios = [info_gain(data, f, target_attr)[1] for f in features]
    best_feature = features[np.argmax(gains_ratios)]
    
    tree = {best_feature: {}}
    for value in np.unique(data[best_feature]):
        sub_data = data[data[best_feature] == value].drop(columns=[best_feature])
        subtree = c45(sub_data, [f for f in features if f != best_feature], target_attr)
        tree[best_feature][value] = subtree
    return tree

features = list(df.columns)
features.remove("Color")
tree = c45(df, features, "Color")

def print_tree(tree, indent=""):
    if not isinstance(tree, dict):
        print(indent + "→ " + str(tree))
        return
    for feature, branches in tree.items():
        for value, subtree in branches.items():
            print(indent + f"{feature} = {value}")
            print_tree(subtree, indent + "    ")

print("Decision Tree (C4.5):")
print_tree(tree)

print("\nIG and GR for each feature:")
for f in features:
    IG, GR = info_gain(df, f, "Color")
    print(f"{f}: IG={IG:.4f}, GR={GR:.4f}")